{
 "cells": [
  {
   "cell_type": "code",
   "execution_count": 1,
   "metadata": {},
   "outputs": [],
   "source": [
    "import pandas as pd\n",
    "import firebase_admin\n",
    "from firebase_admin import credentials, firestore\n",
    "\n",
    "cred = credentials.Certificate(\n",
    "    \"../data/iuh-19529651-b4591-firebase-adminsdk-ykvzr-3be3e73702.json\")\n",
    "firebase_admin.initialize_app(cred)\n",
    "dbFireStore = firestore.client()"
   ]
  },
  {
   "cell_type": "code",
   "execution_count": 14,
   "metadata": {},
   "outputs": [
    {
     "data": {
      "text/html": [
       "<div>\n",
       "<style scoped>\n",
       "    .dataframe tbody tr th:only-of-type {\n",
       "        vertical-align: middle;\n",
       "    }\n",
       "\n",
       "    .dataframe tbody tr th {\n",
       "        vertical-align: top;\n",
       "    }\n",
       "\n",
       "    .dataframe thead th {\n",
       "        text-align: right;\n",
       "    }\n",
       "</style>\n",
       "<table border=\"1\" class=\"dataframe\">\n",
       "  <thead>\n",
       "    <tr style=\"text-align: right;\">\n",
       "      <th></th>\n",
       "      <th>SALES</th>\n",
       "      <th>PRICEEACH</th>\n",
       "      <th>QUANTITYORDERED</th>\n",
       "    </tr>\n",
       "  </thead>\n",
       "  <tbody>\n",
       "    <tr>\n",
       "      <th>0</th>\n",
       "      <td>3159.96</td>\n",
       "      <td>92.94</td>\n",
       "      <td>34</td>\n",
       "    </tr>\n",
       "    <tr>\n",
       "      <th>1</th>\n",
       "      <td>2819.88</td>\n",
       "      <td>67.14</td>\n",
       "      <td>42</td>\n",
       "    </tr>\n",
       "    <tr>\n",
       "      <th>2</th>\n",
       "      <td>2694.72</td>\n",
       "      <td>64.16</td>\n",
       "      <td>42</td>\n",
       "    </tr>\n",
       "    <tr>\n",
       "      <th>3</th>\n",
       "      <td>4860.24</td>\n",
       "      <td>100.00</td>\n",
       "      <td>21</td>\n",
       "    </tr>\n",
       "    <tr>\n",
       "      <th>4</th>\n",
       "      <td>7036.89</td>\n",
       "      <td>100.00</td>\n",
       "      <td>49</td>\n",
       "    </tr>\n",
       "    <tr>\n",
       "      <th>...</th>\n",
       "      <td>...</td>\n",
       "      <td>...</td>\n",
       "      <td>...</td>\n",
       "    </tr>\n",
       "    <tr>\n",
       "      <th>2818</th>\n",
       "      <td>7737.93</td>\n",
       "      <td>100.00</td>\n",
       "      <td>41</td>\n",
       "    </tr>\n",
       "    <tr>\n",
       "      <th>2819</th>\n",
       "      <td>1331.10</td>\n",
       "      <td>49.30</td>\n",
       "      <td>27</td>\n",
       "    </tr>\n",
       "    <tr>\n",
       "      <th>2820</th>\n",
       "      <td>7667.14</td>\n",
       "      <td>100.00</td>\n",
       "      <td>37</td>\n",
       "    </tr>\n",
       "    <tr>\n",
       "      <th>2821</th>\n",
       "      <td>3288.82</td>\n",
       "      <td>96.73</td>\n",
       "      <td>34</td>\n",
       "    </tr>\n",
       "    <tr>\n",
       "      <th>2822</th>\n",
       "      <td>2797.41</td>\n",
       "      <td>84.77</td>\n",
       "      <td>33</td>\n",
       "    </tr>\n",
       "  </tbody>\n",
       "</table>\n",
       "<p>2823 rows × 3 columns</p>\n",
       "</div>"
      ],
      "text/plain": [
       "        SALES  PRICEEACH  QUANTITYORDERED\n",
       "0     3159.96      92.94               34\n",
       "1     2819.88      67.14               42\n",
       "2     2694.72      64.16               42\n",
       "3     4860.24     100.00               21\n",
       "4     7036.89     100.00               49\n",
       "...       ...        ...              ...\n",
       "2818  7737.93     100.00               41\n",
       "2819  1331.10      49.30               27\n",
       "2820  7667.14     100.00               37\n",
       "2821  3288.82      96.73               34\n",
       "2822  2797.41      84.77               33\n",
       "\n",
       "[2823 rows x 3 columns]"
      ]
     },
     "execution_count": 14,
     "metadata": {},
     "output_type": "execute_result"
    }
   ],
   "source": [
    "queryResults = list(dbFireStore.collection(\"tbl-19529651\").select(['PRICEEACH', 'QUANTITYORDERED', 'SALES']).stream())\n",
    "listQueryResult = list(map(lambda x: x.to_dict(), queryResults))\n",
    "\n",
    "df = pd.DataFrame(listQueryResult)\n",
    "df\n"
   ]
  },
  {
   "cell_type": "code",
   "execution_count": 2,
   "metadata": {},
   "outputs": [],
   "source": [
    "queryResults = list(dbFirebase.collection(u'tbl-19529651').stream())\n",
    "listQueryResult = list(map(lambda x : x.to_dict(), queryResults))\n",
    "df = pd.DataFrame(listQueryResult)\n",
    "gb = df.groupby(['MONTH_ID', 'YEAR_ID'])['ORDERNUMBER'].count()\n",
    "df = pd.DataFrame(gb)\n",
    "# df\n",
    "a = df.idxmax()\n",
    "a\n"
   ]
  },
  {
   "cell_type": "code",
   "execution_count": null,
   "metadata": {},
   "outputs": [],
   "source": [
    "queryResults = list(dbFirebase.collection(u'tbl-19529651').where(u'COUNTRY', u'==', 'USA').stream())\n",
    "listQueryResult = list(map(lambda x : x.to_dict(), queryResults))\n",
    "df = pd.DataFrame(listQueryResult)\n",
    "df"
   ]
  },
  {
   "cell_type": "code",
   "execution_count": null,
   "metadata": {},
   "outputs": [],
   "source": [
    "queryResults = list(dbFirebase.collection(u'tbl-19529651')\n",
    ".where(u'YEAR_ID', u'==', 2005)\n",
    ".where(u'QTR_ID', u'==', 1)\n",
    ".stream())\n",
    "listQueryResult = list(map(lambda x : x.to_dict(), queryResults))\n",
    "df = pd.DataFrame(listQueryResult)\n",
    "df"
   ]
  },
  {
   "cell_type": "markdown",
   "metadata": {},
   "source": [
    "Sinh viên tự học thêm các truy vấn trên google cloud store cho no sql  \n",
    "đọc tài liệu về json  \n",
    "đọc lài tài liệu về no sql  \n",
    "https://firebase.google.com/docs/firestore/query-data/get-data\n",
    "\n",
    "### Project: xây dựng Dashboard khám phá danh mục tiềm năng\n",
    "\n",
    "#### yêu cầu\n",
    "\n",
    "Trên firebase \n",
    "Project name: `iuh-<mã sinh viên>`  \n",
    "Database name: `db-<mã sinh viên>`  \n",
    "Collection name: `tbl-<mã sinh viên>`  "
   ]
  },
  {
   "cell_type": "code",
   "execution_count": null,
   "metadata": {},
   "outputs": [],
   "source": []
  }
 ],
 "metadata": {
  "kernelspec": {
   "display_name": "Python 3.10.6 64-bit",
   "language": "python",
   "name": "python3"
  },
  "language_info": {
   "codemirror_mode": {
    "name": "ipython",
    "version": 3
   },
   "file_extension": ".py",
   "mimetype": "text/x-python",
   "name": "python",
   "nbconvert_exporter": "python",
   "pygments_lexer": "ipython3",
   "version": "3.10.6"
  },
  "orig_nbformat": 4,
  "vscode": {
   "interpreter": {
    "hash": "df95319d8ce4e1d89f5365ae10992bc1f65da593082b1d264e8f529830ec2f02"
   }
  }
 },
 "nbformat": 4,
 "nbformat_minor": 2
}
